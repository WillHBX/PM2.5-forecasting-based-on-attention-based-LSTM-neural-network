{
  "nbformat": 4,
  "nbformat_minor": 0,
  "metadata": {
    "colab": {
      "provenance": [],
      "collapsed_sections": [
        "ipt_y-6mPNnA",
        "tXmP2tNePWpu",
        "UUFhW_bwVlGq",
        "BvCbBat4tPce"
      ],
      "mount_file_id": "1zslb9tTDTFUnkwAWoopyXdpQa9tacxXO",
      "authorship_tag": "ABX9TyOzCw0OdUPuFX7m9WmhhtJA",
      "include_colab_link": true
    },
    "kernelspec": {
      "name": "python3",
      "display_name": "Python 3"
    },
    "language_info": {
      "name": "python"
    }
  },
  "cells": [
    {
      "cell_type": "markdown",
      "metadata": {
        "id": "view-in-github",
        "colab_type": "text"
      },
      "source": [
        "<a href=\"https://colab.research.google.com/github/WillHBX/PM2.5-forecasting-based-on-attention-based-LSTM-neural-network/blob/main/Model.ipynb\" target=\"_parent\"><img src=\"https://colab.research.google.com/assets/colab-badge.svg\" alt=\"Open In Colab\"/></a>"
      ]
    },
    {
      "cell_type": "code",
      "source": [
        "import pandas as pd\n",
        "import numpy as np\n",
        "\n",
        "import os\n",
        "\n",
        "from sklearn.metrics import mean_squared_error\n",
        "\n",
        "from math import sqrt\n",
        "import time\n",
        "\n",
        "from pickle import dump, load, HIGHEST_PROTOCOL\n",
        "import matplotlib.pyplot as plt\n",
        "\n",
        "\n",
        "\n",
        "from keras.models import Model\n",
        "from keras.layers import Dense\n",
        "from keras.layers import multiply\n",
        "from keras.layers import LSTM\n",
        "from keras.layers import Input\n",
        "from keras.layers import Flatten\n",
        "from keras.layers import Dropout\n",
        "from keras.layers import Reshape\n",
        "from keras.layers import RepeatVector\n",
        "from keras.layers import TimeDistributed\n",
        "from keras.callbacks import TensorBoard, EarlyStopping\n",
        "from keras.models import load_model"
      ],
      "metadata": {
        "id": "hSu1N06kh64X"
      },
      "execution_count": null,
      "outputs": []
    },
    {
      "cell_type": "markdown",
      "source": [
        "## Functions"
      ],
      "metadata": {
        "id": "mW6PEQlop9KP"
      }
    },
    {
      "cell_type": "code",
      "source": [
        "\n",
        "def persistent(dataType, X_test, y_test):\n",
        "    test_rmse = list()\n",
        "    y_hat = [sample[-1][0] for sample in X_test]\n",
        "    \n",
        "    rmse = sqrt(mean_squared_error(y_test, y_hat))\n",
        "\n",
        "    print('%s RMSE: %0.4f' % (dataType,rmse))\n",
        "    return None\n",
        "\n",
        "def XGBoost(X_train, y_train, X_test, y_test, X_validation, y_validation):\n",
        "    import xgboost as xgb\n",
        "    \n",
        "    param = {'max_depth':6, 'objective':'reg:linear'}\n",
        "    train_rmse, validation_rmse, test_rmse = list(), list(), list()\n",
        "    yhat_train, yhat_validation, yhat_test = pd.DataFrame(), pd.DataFrame(), pd.DataFrame()\n",
        "    for i in range(1):\n",
        "        y_train_, y_validation_, y_test_ = y_train, y_validation, y_test\n",
        "        \n",
        "        d_train = xgb.DMatrix(X_train, y_train_)\n",
        "        d_validation = xgb.DMatrix(X_validation, y_validation_)\n",
        "        d_test = xgb.DMatrix(X_test, y_test_)\n",
        "        XGB = xgb.train(param, d_train)\n",
        "        \n",
        "        y_hat = XGB.predict(d_train)\n",
        "        yhat_train['%d'%(i+1)] = y_hat\n",
        "        y = y_train_\n",
        "        rmse = sqrt(mean_squared_error(y, y_hat))\n",
        "        train_rmse.append(rmse)\n",
        "        \n",
        "        y_hat = XGB.predict(d_validation)\n",
        "        yhat_validation['%d'%(i+1)] = y_hat\n",
        "        y = y_validation_\n",
        "        rmse = sqrt(mean_squared_error(y, y_hat))\n",
        "        validation_rmse.append(rmse)\n",
        "        \n",
        "        y_hat = XGB.predict(d_test)\n",
        "        yhat_test['%d'%(i+1)] = y_hat\n",
        "        y = y_test_\n",
        "        rmse = sqrt(mean_squared_error(y, y_hat))\n",
        "        test_rmse.append(rmse)\n",
        "    \n",
        "    for i in range(len(train_rmse)):\n",
        "        print('Train RMSE(%d): %0.4f' % (i+1, train_rmse[i]))\n",
        "    for i in range(len(validation_rmse)):\n",
        "        print('Validation RMSE(%d): %0.4f' % (i+1, validation_rmse[i]))\n",
        "    for i in range(len(test_rmse)):\n",
        "        print('Test RMSE(%d): %0.4f' % (i+1, test_rmse[i]))\n",
        "        \n",
        "    return yhat_train.values, yhat_validation.values, yhat_test.values\n",
        "\n",
        "def linear_regression(X_train, y_train, X_test, y_test, X_validation, y_validation):\n",
        "    from sklearn.linear_model import LinearRegression\n",
        "    \n",
        "    train_rmse, validation_rmse, test_rmse = list(), list(), list()\n",
        "    yhat_train, yhat_validation, yhat_test = pd.DataFrame(), pd.DataFrame(), pd.DataFrame()\n",
        "    for i in range(1):\n",
        "        y_train_, y_validation_, y_test_ = y_train, y_validation, y_test\n",
        "        \n",
        "        LR = LinearRegression()\n",
        "        LR.fit(X_train, y_train_)\n",
        "        \n",
        "        y_hat = LR.predict(X_train)\n",
        "        yhat_train['%d'%(i+1)] = y_hat\n",
        "        y = y_train_\n",
        "        rmse = sqrt(mean_squared_error(y, y_hat))\n",
        "        train_rmse.append(rmse)\n",
        "        \n",
        "        y_hat = LR.predict(X_validation)\n",
        "        yhat_validation['%d'%(i+1)] = y_hat\n",
        "        y = y_validation_\n",
        "        rmse = sqrt(mean_squared_error(y, y_hat))\n",
        "        validation_rmse.append(rmse)\n",
        "        \n",
        "        y_hat = LR.predict(X_test)\n",
        "        yhat_test['%d'%(i+1)] = y_hat\n",
        "        y = y_test_\n",
        "        rmse = sqrt(mean_squared_error(y, y_hat))\n",
        "        test_rmse.append(rmse)\n",
        "    \n",
        "    for i in range(len(train_rmse)):\n",
        "        print('Train RMSE(%d): %0.4f' % (i+1, train_rmse[i]))\n",
        "    for i in range(len(validation_rmse)):\n",
        "        print('Validation RMSE(%d): %0.4f' % (i+1, validation_rmse[i]))\n",
        "    for i in range(len(test_rmse)):\n",
        "        print('Test RMSE(%d): %0.4f' % (i+1, test_rmse[i]))\n",
        "        \n",
        "    return yhat_train.values, yhat_validation.values, yhat_test.values\n",
        "\n",
        "def MLP_regression(X_train, y_train, X_test, y_test, X_validation, y_validation):\n",
        "    from sklearn.neural_network import MLPRegressor\n",
        "    \n",
        "    train_rmse, validation_rmse, test_rmse = list(), list(), list()\n",
        "    yhat_train, yhat_validation, yhat_test = pd.DataFrame(), pd.DataFrame(), pd.DataFrame()\n",
        "    for i in range(1):\n",
        "        y_train_, y_validation_, y_test_ = y_train, y_validation, y_test\n",
        "        \n",
        "        MLP = MLPRegressor(hidden_layer_sizes=120)\n",
        "        MLP.fit(X_train, y_train_)\n",
        "        \n",
        "        y_hat_train = MLP.predict(X_train)\n",
        "        yhat_train['%d'%(i+1)] = y_hat_train\n",
        "        y = y_train_\n",
        "        rmse = sqrt(mean_squared_error(y, y_hat_train))\n",
        "        train_rmse.append(rmse)\n",
        "        \n",
        "        y_hat_validation = MLP.predict(X_validation)\n",
        "        yhat_validation['%d'%(i+1)] = y_hat_validation\n",
        "        y = y_validation_\n",
        "        rmse = sqrt(mean_squared_error(y, y_hat_validation))\n",
        "        validation_rmse.append(rmse)\n",
        "        \n",
        "        y_hat_test = MLP.predict(X_test)\n",
        "        yhat_test['%d'%(i+1)] = y_hat_test\n",
        "        y = y_test_\n",
        "        rmse = sqrt(mean_squared_error(y, y_hat_test))\n",
        "        test_rmse.append(rmse)\n",
        "    \n",
        "    for i in range(len(train_rmse)):\n",
        "        print('Train RMSE(%d): %0.4f' % (i+1, train_rmse[i]))\n",
        "    for i in range(len(validation_rmse)):\n",
        "        print('Validation RMSE(%d): %0.4f' % (i+1, validation_rmse[i]))\n",
        "    for i in range(len(test_rmse)):\n",
        "        print('Test RMSE(%d): %0.4f' % (i+1, test_rmse[i]))\n",
        "        \n",
        "    return yhat_train.values, yhat_validation.values, yhat_test.values\n",
        "    \n",
        "def lstm_seq_to_scalar(X_train, y_train, X_test, y_test, X_validation, y_validation,n_inputs):\n",
        "    from keras.models import Sequential\n",
        "    from keras.layers import Dense\n",
        "    from keras.layers import LSTM\n",
        "    from keras import regularizers\n",
        "    \n",
        "    n_outputs =1\n",
        "    \n",
        "    epochs = 5\n",
        "    batch_size = 64\n",
        "    layer = 108\n",
        "    n_features = 8\n",
        "\n",
        "    \n",
        "    train_rmse, validation_rmse, test_rmse = list(), list(), list()\n",
        "    for i in range(1):\n",
        "        y_train_, y_validation_, y_test_ = y_train, y_validation, y_test\n",
        "            \n",
        "        train_y_ = y_train_.reshape((y_train_.shape[0], 1))\n",
        "        validation_y = y_validation_.reshape((y_validation_.shape[0], 1))\n",
        "        test_y = y_test_.reshape((y_test_.shape[0], 1))\n",
        "        \n",
        "        model = Sequential()\n",
        "        model.add(LSTM(layer, input_shape=(n_inputs, n_features)))\n",
        "        model.add(Dense(1))\n",
        "        model.compile(loss='mse', optimizer='adam')\n",
        "        \n",
        "        #print(model.summary())\n",
        "        \n",
        "        history = model.fit(X_train, y_train, validation_data=(X_validation, y_validation), epochs=epochs, batch_size=batch_size, verbose=0, shuffle=False)\n",
        "        \n",
        "        yhat = model.predict(X_train)\n",
        "        yhat = yhat.reshape((yhat.shape[0], 1))\n",
        "        #yhat = y_scaler.inverse_transform(yhat)\n",
        "        \n",
        "        y = y_train_\n",
        "        \n",
        "        rmse = sqrt(mean_squared_error(y, yhat))\n",
        "        train_rmse.append(rmse)\n",
        "        \n",
        "        yhat = model.predict(X_validation)\n",
        "        yhat = yhat.reshape((yhat.shape[0], 1))\n",
        "        #yhat = y_scaler.inverse_transform(yhat)\n",
        "        \n",
        "        y = y_validation_\n",
        "        \n",
        "        rmse = sqrt(mean_squared_error(y, yhat))\n",
        "        validation_rmse.append(rmse)\n",
        "            \n",
        "        yhat = model.predict(X_test)\n",
        "        yhat = yhat.reshape((yhat.shape[0], 1))\n",
        "        #yhat = y_scaler.inverse_transform(yhat)\n",
        "        \n",
        "        y = y_test_\n",
        "        \n",
        "        rmse = sqrt(mean_squared_error(y, yhat))\n",
        "        test_rmse.append(rmse)\n",
        "        \n",
        "    for i in range(len(train_rmse)):\n",
        "        print('Train RMSE(%d): %0.4f' % (i+1, train_rmse[i]))\n",
        "    for i in range(len(validation_rmse)):\n",
        "        print('Validation RMSE(%d): %0.4f' % (i+1, validation_rmse[i]))\n",
        "    for i in range(len(test_rmse)):\n",
        "        print('Test RMSE(%d): %0.4f' % (i+1, test_rmse[i]))\n",
        "            \n",
        "    '''\n",
        "    plt.plot(history.history['loss'], label='train')\n",
        "    plt.plot(history.history['val_loss'], label='validation')\n",
        "    plt.legend()\n",
        "    plt.show()\n",
        "    '''\n",
        "    \n",
        "    return None\n",
        "\n"
      ],
      "metadata": {
        "id": "c26DDhEEzezC"
      },
      "execution_count": null,
      "outputs": []
    },
    {
      "cell_type": "markdown",
      "source": [
        "## 開始"
      ],
      "metadata": {
        "id": "UKOYMa-AqAx6"
      }
    },
    {
      "cell_type": "code",
      "source": [
        "path = \"/content/drive/MyDrive/大專生科技部計畫/data/samples/\"\n",
        "fileList = os.listdir(path)\n",
        "data = dict()\n",
        "for file in fileList:\n",
        "  if file[-1] != 'y':\n",
        "    data[file[:-4]] = pd.DataFrame(np.load(path+file)['data'])\n",
        "\n",
        "for i in data.keys():\n",
        "  print(i)\n"
      ],
      "metadata": {
        "colab": {
          "base_uri": "https://localhost:8080/"
        },
        "id": "KphY6DV_E_ZG",
        "outputId": "19d4006e-42cb-4113-d5fc-a9a8247e434c"
      },
      "execution_count": null,
      "outputs": [
        {
          "output_type": "stream",
          "name": "stdout",
          "text": [
            "2020_pm25_data\n",
            "2020_target_wind_data\n",
            "2021_target_wind_data\n",
            "2019_pm25_data\n",
            "2019_target_wind_data\n",
            "2018_target_wind_data\n",
            "2021_pm25_data\n",
            "2018_pm25_data\n",
            "2018_rain_data\n",
            "2019_rain_data\n",
            "2020_rain_data\n",
            "2021_rain_data\n"
          ]
        }
      ]
    },
    {
      "cell_type": "code",
      "source": [
        "def gen_samples(seq, size, timesteps):\n",
        "  X = np.array([seq[i:i+size] for i in range(seq.shape[0]-size-timesteps)])\n",
        "  y = np.array([seq[size+i+timesteps][0] for i in range(seq.shape[0]-size-timesteps)])\n",
        "  return X, y"
      ],
      "metadata": {
        "id": "p4LqaYPdiJxR"
      },
      "execution_count": null,
      "outputs": []
    },
    {
      "cell_type": "code",
      "source": [
        "# train_X: (#samples, 8(小時)size, 8(wind)/9(pm2.5))\n",
        "hours_wind = 8\n",
        "hours_rain = 8\n",
        "hours_pm25 = 8\n",
        "timesteps = 6\n",
        "\n",
        "\n",
        "# train     2018 2019\n",
        "train_wind = pd.concat([data['2018_target_wind_data'],data['2019_target_wind_data']]).values\n",
        "train_wind,_ = gen_samples(train_wind, hours_wind, timesteps) \n",
        "\n",
        "train_rain = pd.concat([data['2018_rain_data'].iloc[:,:-1],data['2019_rain_data'].iloc[:,:-1]]).values\n",
        "train_rain, _ = gen_samples(train_rain, hours_rain, timesteps)\n",
        "\n",
        "train_pm25 = pd.concat([data['2018_pm25_data'].iloc[:,:-1],data['2019_pm25_data'].iloc[:,:-1]]).values\n",
        "train_pm25, train_target = gen_samples(train_pm25, hours_pm25, timesteps)\n",
        "\n",
        "\n",
        "# validation   2020 \n",
        "validation_wind = data['2020_target_wind_data'].values\n",
        "validation_wind,_ = gen_samples(validation_wind, hours_wind, timesteps) \n",
        "\n",
        "validation_rain = data['2020_rain_data'].iloc[:,:-1].values\n",
        "validation_rain, _ = gen_samples(validation_rain, hours_rain, timesteps)\n",
        "\n",
        "validation_pm25 = data['2020_pm25_data'].iloc[:,:-1].values\n",
        "validation_pm25, validation_target = gen_samples(validation_pm25, hours_pm25, timesteps)\n",
        "\n",
        "# test      2021 \n",
        "test_wind = data['2021_target_wind_data'].values\n",
        "test_wind,_ = gen_samples(test_wind, hours_wind, timesteps) \n",
        "\n",
        "test_rain = data['2021_rain_data'].iloc[:,:-1].values\n",
        "test_rain, _ = gen_samples(test_rain, hours_rain, timesteps)\n",
        "\n",
        "test_pm25 = data['2021_pm25_data'].iloc[:,:-1].values\n",
        "test_pm25, test_target = gen_samples(test_pm25, hours_pm25, timesteps)\n",
        "\n",
        "# [sample[1][0] for sample in train_pm25] 拿全部的第一筆\n",
        "persistent('Train', train_pm25, train_target)\n",
        "persistent('Validation', validation_pm25, validation_target)\n",
        "persistent('Test', test_pm25, test_target)\n",
        "\n"
      ],
      "metadata": {
        "colab": {
          "base_uri": "https://localhost:8080/"
        },
        "id": "dADsJ5BOGEXz",
        "outputId": "8698a048-b432-4670-fdc6-88914c946e55"
      },
      "execution_count": null,
      "outputs": [
        {
          "output_type": "stream",
          "name": "stdout",
          "text": [
            "Train RMSE: 10.5441\n",
            "Validation RMSE: 7.0559\n",
            "Test RMSE: 7.7535\n"
          ]
        }
      ]
    },
    {
      "cell_type": "markdown",
      "source": [
        "## Wind-attention LSTM\n"
      ],
      "metadata": {
        "id": "ipt_y-6mPNnA"
      }
    },
    {
      "cell_type": "code",
      "source": [
        "t = time.time()\n",
        "    \n",
        "pm25Input = Input(shape=(hours_pm25, 8), name='pm25_input')\n",
        "pm25enc = LSTM(12, return_sequences=True)(pm25Input)\n",
        "#pm25enc = Dropout(0.3)(pm25enc)\n",
        "    \n",
        "windInput = Input(shape=(hours_wind, 8), name='wind_input')\n",
        "windenc = LSTM(12, return_sequences=True)(windInput)\n",
        "#windenc = Dropout(0.3)(windenc)\n",
        "    \n",
        "att = multiply([windenc, pm25enc])\n",
        "att = Flatten()(att)\n",
        "att = Dense(hours_pm25 * 8, activation='sigmoid')(att)\n",
        "att = Reshape((hours_pm25, 8))(att)\n",
        "    \n",
        "    \n",
        "m = multiply([att, pm25Input])\n",
        "m = Flatten()(m)\n",
        "pm25Output = Dense(1)(m)\n",
        "    \n",
        "model = Model(inputs=[pm25Input, windInput], outputs=[pm25Output])\n",
        "model.compile(optimizer='adam', loss='mse')\n",
        "    \n",
        "callBack = EarlyStopping(monitor='val_loss', patience=4)\n",
        "    \n",
        "history = model.fit([train_pm25, train_wind], [train_target], \n",
        "                        validation_data=([validation_pm25, validation_wind], [validation_target]), \n",
        "                        epochs=32 , batch_size=64, verbose=0, shuffle=False, callbacks=[callBack])\n",
        "    \n",
        "print('Total %f seconds.'%(time.time() - t))\n",
        "\n",
        "model.save('/content/drive/MyDrive/大專生科技部計畫/models/lstm_wind_att_model.h5')\n",
        "del model"
      ],
      "metadata": {
        "colab": {
          "base_uri": "https://localhost:8080/"
        },
        "id": "4K9cvLD85lCk",
        "outputId": "0505712b-4295-4c28-d1bc-027c6f1bcae9"
      },
      "execution_count": null,
      "outputs": [
        {
          "output_type": "stream",
          "name": "stdout",
          "text": [
            "Total 50.491002 seconds.\n"
          ]
        }
      ]
    },
    {
      "cell_type": "code",
      "source": [
        "model = load_model('/content/drive/MyDrive/大專生科技部計畫/models/lstm_wind_att_model.h5')\n",
        "    \n",
        "#Plot\n",
        "    \n",
        "plt.plot(history.history['loss'], label='train')\n",
        "plt.plot(history.history['val_loss'], label='validation')\n",
        "plt.legend()\n",
        "plt.show()\n",
        "    \n",
        "#Evaluation\n",
        "    \n",
        "yhat_train = model.predict([train_pm25, train_wind])\n",
        "# yhat_train = yhat_train.reshape((yhat_train.shape[0], n_targets))\n",
        "    \n",
        "y = train_target\n",
        "    \n",
        "for i in range(yhat_train.shape[1]):\n",
        "    rmse = sqrt(mean_squared_error(y, yhat_train))\n",
        "    print('Train RMSE(%d): %0.4f' % (i+1, rmse))\n",
        "        \n",
        "yhat_validation = model.predict([validation_pm25, validation_wind])\n",
        "# yhat_validation = yhat_validation.reshape((yhat_validation.shape[0], n_targets))\n",
        "    \n",
        "y = validation_target\n",
        "    \n",
        "for i in range(yhat_validation.shape[1]):\n",
        "    rmse = sqrt(mean_squared_error(y, yhat_validation))\n",
        "    print('Validation RMSE(%d): %0.4f' % (i+1, rmse))\n",
        "        \n",
        "yhat_test = model.predict([test_pm25, test_wind])\n",
        "# yhat_test = yhat_test.reshape((yhat_test.shape[0], n_targets))\n",
        "    \n",
        "y = test_target\n",
        "    \n",
        "for i in range(yhat_test.shape[1]):\n",
        "    rmse = sqrt(mean_squared_error(y, yhat_test))\n",
        "    print('Test RMSE(%d): %0.4f' % (i+1, rmse))"
      ],
      "metadata": {
        "colab": {
          "base_uri": "https://localhost:8080/",
          "height": 369
        },
        "id": "edFcf4IGs7w_",
        "outputId": "a6525803-2f60-4db2-e986-a5f8accf488a"
      },
      "execution_count": null,
      "outputs": [
        {
          "output_type": "display_data",
          "data": {
            "text/plain": [
              "<Figure size 432x288 with 1 Axes>"
            ],
            "image/png": "[encoded data removed]"
          },
          "metadata": {
            "needs_background": "light"
          }
        },
        {
          "output_type": "stream",
          "name": "stdout",
          "text": [
            "547/547 [==============================] - 3s 3ms/step\n",
            "Train RMSE(1): 9.4693\n",
            "274/274 [==============================] - 1s 3ms/step\n",
            "Validation RMSE(1): 7.5467\n",
            "273/273 [==============================] - 1s 3ms/step\n",
            "Test RMSE(1): 8.4960\n"
          ]
        }
      ]
    },
    {
      "cell_type": "markdown",
      "source": [
        "## Rainfall-attention LSTM\n"
      ],
      "metadata": {
        "id": "tXmP2tNePWpu"
      }
    },
    {
      "cell_type": "code",
      "source": [
        "t = time.time()\n",
        "    \n",
        "pm25Input = Input(shape=(hours_pm25, 8), name='pm25_input')\n",
        "pm25enc = LSTM(12, return_sequences=True)(pm25Input)\n",
        "\n",
        "    \n",
        "rainInput = Input(shape=(hours_rain, 8), name='rain_input')\n",
        "rainenc = LSTM(12, return_sequences=True)(rainInput)\n",
        "\n",
        "    \n",
        "att = multiply([rainenc, pm25enc])\n",
        "att = Flatten()(att)\n",
        "att = Dense(hours_pm25 * 8, activation='sigmoid')(att)\n",
        "att = Reshape((hours_pm25, 8))(att)\n",
        "    \n",
        "    \n",
        "m = multiply([att, pm25Input])\n",
        "m = Flatten()(m)\n",
        "pm25Output = Dense(1)(m)\n",
        "    \n",
        "model = Model(inputs=[pm25Input, rainInput], outputs=[pm25Output])\n",
        "model.compile(optimizer='adam', loss='mse')\n",
        "    \n",
        "callBack = EarlyStopping(monitor='val_loss', patience=4)\n",
        "    \n",
        "history = model.fit([train_pm25, train_rain], [train_target], \n",
        "                        validation_data=([validation_pm25, validation_rain], [validation_target]), \n",
        "                        epochs=32 , batch_size=64, verbose=0, shuffle=False, callbacks=[callBack])\n",
        "    \n",
        "print('Total %f seconds.'%(time.time() - t))\n",
        "\n",
        "model.save('/content/drive/MyDrive/大專生科技部計畫/models/lstm_rain_att_model.h5')\n",
        "del model"
      ],
      "metadata": {
        "colab": {
          "base_uri": "https://localhost:8080/"
        },
        "outputId": "82aa0e7e-6aca-493a-a304-57d514949203",
        "id": "qWmOF69OPpib"
      },
      "execution_count": null,
      "outputs": [
        {
          "output_type": "stream",
          "name": "stdout",
          "text": [
            "Total 67.840464 seconds.\n"
          ]
        }
      ]
    },
    {
      "cell_type": "code",
      "source": [
        "model = load_model('/content/drive/MyDrive/大專生科技部計畫/models/lstm_rain_att_model.h5')\n",
        "    \n",
        "#Plot\n",
        "    \n",
        "plt.plot(history.history['loss'], label='train')\n",
        "plt.plot(history.history['val_loss'], label='validation')\n",
        "plt.legend()\n",
        "plt.show()\n",
        "    \n",
        "#Evaluation\n",
        "    \n",
        "yhat_train = model.predict([train_pm25, train_rain])\n",
        "# yhat_train = yhat_train.reshape((yhat_train.shape[0], n_targets))\n",
        "    \n",
        "y = train_target\n",
        "    \n",
        "for i in range(yhat_train.shape[1]):\n",
        "    rmse = sqrt(mean_squared_error(y, yhat_train))\n",
        "    print('Train RMSE(%d): %0.4f' % (i+1, rmse))\n",
        "        \n",
        "yhat_validation = model.predict([validation_pm25, validation_rain])\n",
        "# yhat_validation = yhat_validation.reshape((yhat_validation.shape[0], n_targets))\n",
        "    \n",
        "y = validation_target\n",
        "    \n",
        "for i in range(yhat_validation.shape[1]):\n",
        "    rmse = sqrt(mean_squared_error(y, yhat_validation))\n",
        "    print('Validation RMSE(%d): %0.4f' % (i+1, rmse))\n",
        "        \n",
        "yhat_test = model.predict([test_pm25, test_rain])\n",
        "# yhat_test = yhat_test.reshape((yhat_test.shape[0], n_targets))\n",
        "    \n",
        "y = test_target\n",
        "    \n",
        "for i in range(yhat_test.shape[1]):\n",
        "    rmse = sqrt(mean_squared_error(y, yhat_test))\n",
        "    print('Test RMSE(%d): %0.4f' % (i+1, rmse))"
      ],
      "metadata": {
        "colab": {
          "base_uri": "https://localhost:8080/",
          "height": 369
        },
        "outputId": "45d380ea-5bc5-4600-866b-360e7b094ea6",
        "id": "vhdsbNXBPsoL"
      },
      "execution_count": null,
      "outputs": [
        {
          "output_type": "display_data",
          "data": {
            "text/plain": [
              "<Figure size 432x288 with 1 Axes>"
            ],
            "image/png": "[encoded data removed]"
          },
          "metadata": {
            "needs_background": "light"
          }
        },
        {
          "output_type": "stream",
          "name": "stdout",
          "text": [
            "547/547 [==============================] - 2s 3ms/step\n",
            "Train RMSE(1): 9.4941\n",
            "274/274 [==============================] - 1s 3ms/step\n",
            "Validation RMSE(1): 7.4883\n",
            "273/273 [==============================] - 1s 3ms/step\n",
            "Test RMSE(1): 8.4329\n"
          ]
        }
      ]
    },
    {
      "cell_type": "markdown",
      "source": [
        "## WR-attention LSTM"
      ],
      "metadata": {
        "id": "UUFhW_bwVlGq"
      }
    },
    {
      "cell_type": "code",
      "source": [
        "t = time.time()\n",
        "    \n",
        "pm25Input = Input(shape=(hours_pm25, 8), name='pm25_input')\n",
        "pm25enc = LSTM(12, return_sequences=True)(pm25Input)\n",
        "\n",
        "    \n",
        "rainInput = Input(shape=(hours_rain, 8), name='rain_input')\n",
        "rainenc = LSTM(12, return_sequences=True)(rainInput)\n",
        "\n",
        "windInput = Input(shape=(hours_wind, 8), name='wind_input')\n",
        "windenc = LSTM(12, return_sequences=True)(windInput)\n",
        "    \n",
        "r_att = multiply([rainenc, pm25enc])\n",
        "r_att = Flatten()(r_att)\n",
        "r_att = Dense(hours_pm25 * 8, activation='sigmoid')(r_att)\n",
        "r_att = Reshape((hours_pm25, 8))(r_att)\n",
        "\n",
        "w_att = multiply([windenc, pm25enc])\n",
        "w_att = Flatten()(w_att)\n",
        "w_att = Dense(hours_pm25 * 8, activation='sigmoid')(w_att)\n",
        "w_att = Reshape((hours_pm25, 8))(w_att)\n",
        "\n",
        "att = multiply([r_att,w_att])\n",
        "att = Flatten()(att)\n",
        "att = Dense(hours_pm25 * 8, activation='sigmoid')(att)\n",
        "att = Reshape((hours_pm25, 8))(att)\n",
        "\n",
        "m = multiply([att, pm25Input])\n",
        "m = Flatten()(m)\n",
        "pm25Output = Dense(1)(m)\n",
        "    \n",
        "model = Model(inputs=[pm25Input, rainInput, windInput], outputs=[pm25Output])\n",
        "model.compile(optimizer='adam', loss='mse')\n",
        "    \n",
        "callBack = EarlyStopping(monitor='val_loss', patience=4)\n",
        "    \n",
        "history = model.fit([train_pm25, train_rain, train_wind], [train_target], \n",
        "                        validation_data=([validation_pm25, validation_rain, validation_wind], [validation_target]), \n",
        "                        epochs=32 , batch_size=64, verbose=0, shuffle=False, callbacks=[callBack])\n",
        "    \n",
        "print('Total %f seconds.'%(time.time() - t))\n",
        "\n",
        "model.save('/content/drive/MyDrive/大專生科技部計畫/models/lstm_wr_att_model.h5')\n",
        "del model"
      ],
      "metadata": {
        "colab": {
          "base_uri": "https://localhost:8080/"
        },
        "outputId": "a3024b74-7922-46dd-993d-d9fa35d81c32",
        "id": "bOSFwBJUVyG-"
      },
      "execution_count": null,
      "outputs": [
        {
          "output_type": "stream",
          "name": "stdout",
          "text": [
            "Total 87.085855 seconds.\n"
          ]
        }
      ]
    },
    {
      "cell_type": "code",
      "source": [
        "model = load_model('/content/drive/MyDrive/大專生科技部計畫/models/lstm_wr_att_model.h5')\n",
        "    \n",
        "#Plot\n",
        "    \n",
        "plt.plot(history.history['loss'], label='train')\n",
        "plt.plot(history.history['val_loss'], label='validation')\n",
        "plt.legend()\n",
        "plt.show()\n",
        "    \n",
        "#Evaluation\n",
        "    \n",
        "yhat_train = model.predict([train_pm25, train_rain, train_wind])\n",
        "# yhat_train = yhat_train.reshape((yhat_train.shape[0], n_targets))\n",
        "    \n",
        "y = train_target\n",
        "    \n",
        "for i in range(yhat_train.shape[1]):\n",
        "    rmse = sqrt(mean_squared_error(y, yhat_train))\n",
        "    print('Train RMSE(%d): %0.4f' % (i+1, rmse))\n",
        "        \n",
        "yhat_validation = model.predict([validation_pm25, validation_rain, validation_wind])\n",
        "# yhat_validation = yhat_validation.reshape((yhat_validation.shape[0], n_targets))\n",
        "    \n",
        "y = validation_target\n",
        "    \n",
        "for i in range(yhat_validation.shape[1]):\n",
        "    rmse = sqrt(mean_squared_error(y, yhat_validation))\n",
        "    print('Validation RMSE(%d): %0.4f' % (i+1, rmse))\n",
        "        \n",
        "yhat_test = model.predict([test_pm25, test_rain, test_wind])\n",
        "# yhat_test = yhat_test.reshape((yhat_test.shape[0], n_targets))\n",
        "    \n",
        "y = test_target\n",
        "    \n",
        "for i in range(yhat_test.shape[1]):\n",
        "    rmse = sqrt(mean_squared_error(y, yhat_test))\n",
        "\n",
        "    print('Test RMSE(%d): %0.4f' % (i+1, rmse))\n"
      ],
      "metadata": {
        "colab": {
          "base_uri": "https://localhost:8080/",
          "height": 620
        },
        "outputId": "cf22392b-52a2-41be-e112-5dcee4afa7d9",
        "id": "UbvILAtMaRlg"
      },
      "execution_count": null,
      "outputs": [
        {
          "output_type": "display_data",
          "data": {
            "text/plain": [
              "<Figure size 432x288 with 1 Axes>"
            ],
            "image/png": "[encoded data removed]"
          },
          "metadata": {
            "needs_background": "light"
          }
        },
        {
          "output_type": "stream",
          "name": "stdout",
          "text": [
            "548/548 [==============================] - 4s 4ms/step\n",
            "Train RMSE(1): 7.8237\n",
            "275/275 [==============================] - 1s 4ms/step\n",
            "Validation RMSE(1): 6.3324\n",
            "274/274 [==============================] - 1s 4ms/step\n",
            "Test RMSE(1): 6.8553\n"
          ]
        },
        {
          "output_type": "display_data",
          "data": {
            "text/plain": [
              "<Figure size 432x288 with 1 Axes>"
            ],
            "image/png": "[encoded data removed]"
          },
          "metadata": {
            "needs_background": "light"
          }
        }
      ]
    },
    {
      "cell_type": "code",
      "source": [
        "plt.plot(test_target[7000:7500], label='target')\n",
        "plt.plot(yhat_test[7000:7500], label='predict')\n",
        "plt.xlabel('Time(hour))')\n",
        "plt.ylabel('μg/m3')\n",
        "plt.title('WRLSTM Prediction')\n",
        "plt.legend()\n",
        "plt.show()\n",
        "    "
      ],
      "metadata": {
        "colab": {
          "base_uri": "https://localhost:8080/",
          "height": 295
        },
        "id": "bDveWuraKyDb",
        "outputId": "d1a5d7a4-e54d-405e-bd59-f5f8ec04e27c"
      },
      "execution_count": null,
      "outputs": [
        {
          "output_type": "display_data",
          "data": {
            "text/plain": [
              "<Figure size 432x288 with 1 Axes>"
            ],
            "image/png": "[encoded data removed]"
          },
          "metadata": {
            "needs_background": "light"
          }
        }
      ]
    },
    {
      "cell_type": "markdown",
      "source": [
        "## LR\n"
      ],
      "metadata": {
        "id": "BvCbBat4tPce"
      }
    },
    {
      "cell_type": "code",
      "source": [
        "lstm_seq_to_scalar(train_pm25, train_target, test_pm25, test_target, validation_pm25, validation_target,hours_wind)"
      ],
      "metadata": {
        "colab": {
          "base_uri": "https://localhost:8080/"
        },
        "id": "TyWy6zDMtPPs",
        "outputId": "9fbc0f51-1a67-4724-a65d-780dff21c2ef"
      },
      "execution_count": null,
      "outputs": [
        {
          "output_type": "stream",
          "name": "stdout",
          "text": [
            "547/547 [==============================] - 3s 4ms/step\n",
            "274/274 [==============================] - 1s 4ms/step\n",
            "273/273 [==============================] - 1s 4ms/step\n",
            "Train RMSE(1): 9.7269\n",
            "Validation RMSE(1): 7.3838\n",
            "Test RMSE(1): 8.2767\n"
          ]
        }
      ]
    },
    {
      "cell_type": "code",
      "source": [
        "trainX = [[train_pm25[j][i][0] for i in range(len(train_pm25[0]))] for j in range(len(train_pm25))]\n",
        "testX = [[test_pm25[j][i][0] for i in range(len(test_pm25[0]))] for j in range(len(test_pm25))]\n",
        "validationX = [[validation_pm25[j][i][0] for i in range(len(validation_pm25[0]))] for j in range(len(validation_pm25))]\n",
        "# MLP_regression(trainX, train_target, testX, test_target, validationX, validation_target)"
      ],
      "metadata": {
        "id": "q_BviozVzN66"
      },
      "execution_count": null,
      "outputs": []
    },
    {
      "cell_type": "code",
      "source": [
        "XGBoost(trainX, train_target, testX, test_target, validationX, validation_target)"
      ],
      "metadata": {
        "colab": {
          "base_uri": "https://localhost:8080/"
        },
        "id": "z9oPaffXjCy2",
        "outputId": "493bb578-685a-44a1-c623-e21314e9b950"
      },
      "execution_count": null,
      "outputs": [
        {
          "output_type": "stream",
          "name": "stdout",
          "text": [
            "[14:05:17] WARNING: /workspace/src/objective/regression_obj.cu:152: reg:linear is now deprecated in favor of reg:squarederror.\n",
            "Train RMSE(1): 8.5261\n",
            "Validation RMSE(1): 6.4119\n",
            "Test RMSE(1): 7.0973\n"
          ]
        },
        {
          "output_type": "execute_result",
          "data": {
            "text/plain": [
              "(array([[17.945536],\n",
              "        [20.054272],\n",
              "        [19.369207],\n",
              "        ...,\n",
              "        [13.336376],\n",
              "        [15.536545],\n",
              "        [16.847046]], dtype=float32), array([[ 9.607288],\n",
              "        [11.318238],\n",
              "        [ 9.159833],\n",
              "        ...,\n",
              "        [13.71226 ],\n",
              "        [14.944186],\n",
              "        [14.958016]], dtype=float32), array([[12.752142],\n",
              "        [12.829605],\n",
              "        [10.971017],\n",
              "        ...,\n",
              "        [11.957601],\n",
              "        [12.010204],\n",
              "        [15.30043 ]], dtype=float32))"
            ]
          },
          "metadata": {},
          "execution_count": 17
        }
      ]
    },
    {
      "cell_type": "code",
      "source": [
        "linear_regression(trainX, train_target, testX, test_target, validationX, validation_target)"
      ],
      "metadata": {
        "colab": {
          "base_uri": "https://localhost:8080/"
        },
        "id": "6pfehGaCjw0u",
        "outputId": "e8278b95-c86b-44bf-963c-c8fde0dd7aa0"
      },
      "execution_count": null,
      "outputs": [
        {
          "output_type": "stream",
          "name": "stdout",
          "text": [
            "Train RMSE(1): 9.5407\n",
            "Validation RMSE(1): 7.1576\n",
            "Test RMSE(1): 8.1415\n"
          ]
        },
        {
          "output_type": "execute_result",
          "data": {
            "text/plain": [
              "(array([[15.48649116],\n",
              "        [14.60688129],\n",
              "        [15.34793063],\n",
              "        ...,\n",
              "        [10.6331038 ],\n",
              "        [10.4888762 ],\n",
              "        [10.36225207]]), array([[11.76694349],\n",
              "        [12.3368307 ],\n",
              "        [11.46335374],\n",
              "        ...,\n",
              "        [15.41595048],\n",
              "        [15.04425936],\n",
              "        [14.50482966]]), array([[13.93487988],\n",
              "        [13.26238473],\n",
              "        [12.8287995 ],\n",
              "        ...,\n",
              "        [19.03520823],\n",
              "        [17.50363586],\n",
              "        [16.52416358]]))"
            ]
          },
          "metadata": {},
          "execution_count": 25
        }
      ]
    }
  ]
}